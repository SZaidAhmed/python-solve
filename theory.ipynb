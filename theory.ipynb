{
 "cells": [
  {
   "cell_type": "markdown",
   "metadata": {},
   "source": [
    "# Q1-A"
   ]
  },
  {
   "cell_type": "markdown",
   "metadata": {},
   "source": [
    "Write a function called “yourname_has_e” that returns the message “This word has a letter e” if the given word has two “e” letters in it."
   ]
  },
  {
   "cell_type": "code",
   "execution_count": 3,
   "metadata": {},
   "outputs": [
    {
     "name": "stdout",
     "output_type": "stream",
     "text": [
      "The word has a letter e\n"
     ]
    }
   ],
   "source": [
    "def yourname_has_e(word):\n",
    "    counter = 0\n",
    "    for i in word:\n",
    "        if i =='e':\n",
    "            counter+=1\n",
    "    if counter==2:\n",
    "        print(\"The word has a letter e\")\n",
    "    else:\n",
    "        print(\"The word donot contain a letter e\")\n",
    "        \n",
    "yourname_has_e(\"waseem\")"
   ]
  },
  {
   "cell_type": "markdown",
   "metadata": {},
   "source": [
    "# Q1-B "
   ]
  },
  {
   "cell_type": "markdown",
   "metadata": {},
   "source": [
    "Write a second function called “yourname_percentage” that computes the percentage of the words in the list have no “e.”"
   ]
  },
  {
   "cell_type": "code",
   "execution_count": 12,
   "metadata": {},
   "outputs": [
    {
     "name": "stdout",
     "output_type": "stream",
     "text": [
      "The percentage of the words in the list have no 'e' : 50.0 %\n"
     ]
    }
   ],
   "source": [
    "def yourname_percentage(names):\n",
    "    counter = 0\n",
    "    for i in names:\n",
    "        if 'e' in i:\n",
    "            counter+=1\n",
    "    print(\"The percentage of the words in the list have no 'e' :\",(counter/len(names))*100,\"%\")\n",
    "\n",
    "names=['zaid' , 'waseem' , 'naseem' , 'hassam']\n",
    "yourname_percentage(names)"
   ]
  },
  {
   "cell_type": "markdown",
   "metadata": {},
   "source": [
    "# Q2-A"
   ]
  },
  {
   "cell_type": "markdown",
   "metadata": {},
   "source": [
    "Write a program that accepts a sentence and calculate the number of digits, uppercase and lowercase letters."
   ]
  },
  {
   "cell_type": "code",
   "execution_count": 15,
   "metadata": {},
   "outputs": [
    {
     "name": "stdout",
     "output_type": "stream",
     "text": [
      "Enter a sentence here: 1fDr2W\n",
      "The total number of uppercases are:  2\n",
      "The total number of lowercases are:  2\n",
      "The total number of digits are:  2\n"
     ]
    }
   ],
   "source": [
    "sentence = str(input(\"Enter a sentence here: \"))\n",
    "upper = 0\n",
    "lower = 0\n",
    "digit = 0\n",
    "for i in sentence:\n",
    "    for r in i:\n",
    "        if r.isupper():\n",
    "            upper+=1\n",
    "        elif r.islower():\n",
    "            lower+=1\n",
    "        elif r.isdigit():\n",
    "            digit+=1\n",
    "        else:\n",
    "            pass\n",
    "print(\"The total number of uppercases are: \",upper)\n",
    "print(\"The total number of lowercases are: \",lower)\n",
    "print(\"The total number of digits are: \",digit)\n",
    "            \n",
    "        "
   ]
  },
  {
   "cell_type": "markdown",
   "metadata": {},
   "source": [
    "# Q2-B"
   ]
  },
  {
   "cell_type": "markdown",
   "metadata": {},
   "source": [
    "    \n",
    "b)\tWrite a Program to Prompt for a Percentage between 00 and 100. If the Score is out of range, print an error. If the score is between 00 and 100, print a grade using the following table.\n",
    "\n",
    "                                            Percentage\tGrade\n",
    "                                               >=88\t      A\n",
    "                                               >=81\t      B+\n",
    "                                               >=74\t      B\n",
    "                                               >=67\t      C+\n",
    "                                               >=60\t      C\n",
    "                                                <60\t      F\n"
   ]
  },
  {
   "cell_type": "code",
   "execution_count": 20,
   "metadata": {},
   "outputs": [
    {
     "name": "stdout",
     "output_type": "stream",
     "text": [
      "Enter your score here: 66\n",
      "The grade is C\n"
     ]
    }
   ],
   "source": [
    "score = float(input(\"Enter your score here: \"))\n",
    "if score>=88 and score<=100:\n",
    "    print(\"The grade is A\")\n",
    "elif score>=81 and score<88:\n",
    "    print(\"The grade is B+\")\n",
    "elif score>=74 and score<81:\n",
    "    print(\"The grade is B\")\n",
    "elif score>=67 and score<74:\n",
    "    print(\"The grade is C+\")\n",
    "elif score>=60 and score<67:\n",
    "    print(\"The grade is C\")\n",
    "elif score<60 and score>0:\n",
    "    print(\"The grade is F\")\n",
    "elif score<0 or score>100:\n",
    "    print(\"The given score is out of range\")"
   ]
  },
  {
   "cell_type": "markdown",
   "metadata": {},
   "source": [
    "# Q3-A"
   ]
  },
  {
   "cell_type": "markdown",
   "metadata": {},
   "source": [
    "Suppose you have a list named “Num” which has particular elements.\n",
    "Num = [1,4,2,0,5,3,4,1,8]\n",
    "Write a python program to perform the following operations:\n",
    "\n",
    "    i)\tPrint the list in reverse order\n",
    "    \n"
   ]
  },
  {
   "cell_type": "code",
   "execution_count": 50,
   "metadata": {},
   "outputs": [
    {
     "name": "stdout",
     "output_type": "stream",
     "text": [
      "[8, 1, 4, 3, 5, 0, 2, 4, 1]\n"
     ]
    }
   ],
   "source": [
    "Num = [1,4,2,0,5,3,4,1,8]\n",
    "print(Num[::-1])"
   ]
  },
  {
   "cell_type": "markdown",
   "metadata": {},
   "source": [
    "    ii)\tDelete an element at the end of the list\n"
   ]
  },
  {
   "cell_type": "code",
   "execution_count": 51,
   "metadata": {},
   "outputs": [
    {
     "data": {
      "text/plain": [
       "[1, 4, 2, 0, 5, 3, 4, 1]"
      ]
     },
     "execution_count": 51,
     "metadata": {},
     "output_type": "execute_result"
    }
   ],
   "source": [
    "remove = len(Num)-1\n",
    "del Num[remove]\n",
    "Num"
   ]
  },
  {
   "cell_type": "markdown",
   "metadata": {},
   "source": [
    "    iii)Remove the duplications and make a new list"
   ]
  },
  {
   "cell_type": "code",
   "execution_count": 52,
   "metadata": {},
   "outputs": [],
   "source": [
    "new_list = list(set(Num))"
   ]
  },
  {
   "cell_type": "code",
   "execution_count": 53,
   "metadata": {},
   "outputs": [
    {
     "data": {
      "text/plain": [
       "[0, 1, 2, 3, 4, 5]"
      ]
     },
     "execution_count": 53,
     "metadata": {},
     "output_type": "execute_result"
    }
   ],
   "source": [
    "new_list"
   ]
  },
  {
   "cell_type": "markdown",
   "metadata": {},
   "source": [
    "    iv)Insert an element ‘IQRA’ at index position ‘5’"
   ]
  },
  {
   "cell_type": "code",
   "execution_count": 54,
   "metadata": {},
   "outputs": [],
   "source": [
    "Num.insert(5,\"IQRA\")"
   ]
  },
  {
   "cell_type": "code",
   "execution_count": 55,
   "metadata": {},
   "outputs": [
    {
     "data": {
      "text/plain": [
       "[1, 4, 2, 0, 5, 'IQRA', 3, 4, 1]"
      ]
     },
     "execution_count": 55,
     "metadata": {},
     "output_type": "execute_result"
    }
   ],
   "source": [
    "Num"
   ]
  },
  {
   "cell_type": "markdown",
   "metadata": {},
   "source": [
    "# Q3-B"
   ]
  },
  {
   "cell_type": "markdown",
   "metadata": {},
   "source": [
    "Write a python program that prints an element of a set in title form when a type of an element is “String” "
   ]
  },
  {
   "cell_type": "code",
   "execution_count": 68,
   "metadata": {},
   "outputs": [
    {
     "name": "stdout",
     "output_type": "stream",
     "text": [
      "Hassam\n"
     ]
    }
   ],
   "source": [
    "new_set = {1 , 2 , 3 , 4 , 5 , \"hassam\" }\n",
    "for i in new_set:\n",
    "    if type(i) == str:\n",
    "        print(i.title())"
   ]
  }
 ],
 "metadata": {
  "kernelspec": {
   "display_name": "Python 3",
   "language": "python",
   "name": "python3"
  },
  "language_info": {
   "codemirror_mode": {
    "name": "ipython",
    "version": 3
   },
   "file_extension": ".py",
   "mimetype": "text/x-python",
   "name": "python",
   "nbconvert_exporter": "python",
   "pygments_lexer": "ipython3",
   "version": "3.6.5"
  }
 },
 "nbformat": 4,
 "nbformat_minor": 2
}
