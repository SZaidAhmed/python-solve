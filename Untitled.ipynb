{
 "cells": [
  {
   "cell_type": "markdown",
   "metadata": {},
   "source": [
    "# Q1-B"
   ]
  },
  {
   "cell_type": "markdown",
   "metadata": {},
   "source": [
    "Write a python code to add all even numbers together between the range of 9 and 190, also display the answer along with the total number of digits in the given range. First and last digits of the range are included. (HINT: You can use a len() function to calculate total number of digits or simply use a counter) "
   ]
  },
  {
   "cell_type": "code",
   "execution_count": 6,
   "metadata": {},
   "outputs": [
    {
     "name": "stdout",
     "output_type": "stream",
     "text": [
      "Total numbers in between 9 and 190 are: 182\n",
      "even numbers in between 9 and 190 are: [10, 12, 14, 16, 18, 20, 22, 24, 26, 28, 30, 32, 34, 36, 38, 40, 42, 44, 46, 48, 50, 52, 54, 56, 58, 60, 62, 64, 66, 68, 70, 72, 74, 76, 78, 80, 82, 84, 86, 88, 90, 92, 94, 96, 98, 100, 102, 104, 106, 108, 110, 112, 114, 116, 118, 120, 122, 124, 126, 128, 130, 132, 134, 136, 138, 140, 142, 144, 146, 148, 150, 152, 154, 156, 158, 160, 162, 164, 166, 168, 170, 172, 174, 176, 178, 180, 182, 184, 186, 188, 190]\n"
     ]
    }
   ],
   "source": [
    "total = 0\n",
    "even=[]\n",
    "for i in range(9,191):\n",
    "    total+=1\n",
    "    if i%2==0:\n",
    "        even.append(i)\n",
    "\n",
    "print(\"Total numbers in between 9 and 190 are:\", total)\n",
    "print(\"even numbers in between 9 and 190 are:\" , even)"
   ]
  },
  {
   "cell_type": "markdown",
   "metadata": {},
   "source": [
    "# Q2-A"
   ]
  },
  {
   "cell_type": "markdown",
   "metadata": {},
   "source": [
    "Write down a python code that accepts an integer (p) as an input and compute the given equation and print the output x,\n",
    "\n",
    "                                    x=(p^3+2(p)+1)/(3(p))\n"
   ]
  },
  {
   "cell_type": "code",
   "execution_count": 13,
   "metadata": {},
   "outputs": [
    {
     "name": "stdout",
     "output_type": "stream",
     "text": [
      "Enter value of P: 2\n",
      "The value of X will be: 2.1666666666666665\n"
     ]
    }
   ],
   "source": [
    "p = float(input(\"Enter value of P: \"))\n",
    "x=(p**3+2*p+1)/(3*p)\n",
    "print(\"The value of X will be:\",x)"
   ]
  },
  {
   "cell_type": "markdown",
   "metadata": {},
   "source": [
    "# Q2-B"
   ]
  },
  {
   "cell_type": "markdown",
   "metadata": {},
   "source": [
    "Write down a python code to accept an integer as an input and determine whether it is a Prime number or not. If it is not a prime number, determine its factors and display the output."
   ]
  },
  {
   "cell_type": "code",
   "execution_count": 20,
   "metadata": {},
   "outputs": [
    {
     "name": "stdout",
     "output_type": "stream",
     "text": [
      "Enter any integer number: -2\n",
      "please enter a number geater than zero\n"
     ]
    }
   ],
   "source": [
    "factors=[1]\n",
    "integer = int(input(\"Enter any integer number: \"))\n",
    "if integer > 1:\n",
    "    for i in range(2,integer):\n",
    "        if integer%i==0:\n",
    "            factors.append(i)\n",
    "    if len(factors)==1:\n",
    "        print(\"The given number is prime\")\n",
    "    else:\n",
    "        factors.append(integer)\n",
    "        print(\"The factors of the given number \",integer,\" are:\",factors)\n",
    "else:\n",
    "    if integer ==1:\n",
    "        print(\"The given number is prime\")\n",
    "    else:\n",
    "        print(\"please enter a number geater than zero\")"
   ]
  },
  {
   "cell_type": "markdown",
   "metadata": {},
   "source": [
    "# Q3-A "
   ]
  },
  {
   "cell_type": "markdown",
   "metadata": {},
   "source": [
    "Write down a python code to print all the odd numbers from the given list in another list named (Odd_1 = []) in ascending order.\n",
    "\n",
    "List_1 = [21, 33, 22, 64, 24, 88, 13, 124, 27, 90, 75, 61, 83, 98, 11, 10, 2, 125, 189, 201, 210, 135, 111, 122]\n"
   ]
  },
  {
   "cell_type": "code",
   "execution_count": 23,
   "metadata": {},
   "outputs": [
    {
     "data": {
      "text/plain": [
       "[11, 13, 21, 27, 33, 61, 75, 83, 111, 125, 135, 189, 201]"
      ]
     },
     "execution_count": 23,
     "metadata": {},
     "output_type": "execute_result"
    }
   ],
   "source": [
    "Odd_1 = []\n",
    "List_1 = [21, 33, 22, 64, 24, 88, 13, 124, 27, 90, 75, 61, 83, 98, 11, 10, 2, 125, 189, 201, 210, 135, 111, 122]\n",
    "for i in List_1:\n",
    "    if i%2==1:\n",
    "        Odd_1.append(i)\n",
    "Odd_1.sort()\n",
    "Odd_1"
   ]
  },
  {
   "cell_type": "markdown",
   "metadata": {},
   "source": [
    "# Q3-B"
   ]
  },
  {
   "cell_type": "markdown",
   "metadata": {},
   "source": [
    "Write a python code to print the given pattern using loops\n",
    "\n",
    "                                        *     *\n",
    "                                        **   **\n",
    "                                        *** ***\n",
    "                                        **   **\n",
    "                                        *     *\n"
   ]
  },
  {
   "cell_type": "code",
   "execution_count": 69,
   "metadata": {},
   "outputs": [
    {
     "name": "stdout",
     "output_type": "stream",
     "text": [
      "*     *\n",
      "**   **\n",
      "*** ***\n",
      "**   **\n",
      "*     *\n"
     ]
    }
   ],
   "source": [
    "space=5\n",
    "for i in range(1,4):\n",
    "    print(\"*\"*i,end='')\n",
    "    print(\" \"*space,end='')\n",
    "    print(\"*\"*i)\n",
    "    space=space-2\n",
    "space=1\n",
    "for i in reversed(range(1,3)):\n",
    "    space=space+2\n",
    "    print(\"*\"*i,end='')\n",
    "    print(\" \"*space,end='')\n",
    "    print(\"*\"*i)\n",
    "    "
   ]
  },
  {
   "cell_type": "markdown",
   "metadata": {},
   "source": [
    "# Q4-A"
   ]
  },
  {
   "cell_type": "markdown",
   "metadata": {},
   "source": [
    "Write down a Python code for shopping cash register in which a shop keeper must give a change to the customer with respect to the total shopping amount. Assume total shopping amount of a customer is 37 Rs and he gave a 50 Rs note to the shop keeper. Your code must tell the shop keeper the amount of 100 Rs, 50 Rs, 20 Rs, 10 Rs, 5 Rs, 2 Rs or 1 Rs note/coins that he must return to the customer, in case of 37 Rs of shopping and 50 Rs note, a customer must get one 10 Rs note, one 5 Rs coin and one 2 Rs coin. Accept user defined input for both shopping amount and the note given to the shop keeper."
   ]
  },
  {
   "cell_type": "code",
   "execution_count": 76,
   "metadata": {},
   "outputs": [
    {
     "name": "stdout",
     "output_type": "stream",
     "text": [
      "cash recived :50\n",
      "Shopping amount :37\n",
      "[10, 2, 1]\n"
     ]
    }
   ],
   "source": [
    "change=[]\n",
    "cash_recieved=int(input(\"cash recived :\"))\n",
    "shopping_cost = int(input(\"Shopping amount :\"))\n",
    "if cash_recieved<shopping_cost:\n",
    "    print(\"Shopping amount is greater than the cash recieved by the cashier\")\n",
    "else:\n",
    "    back=cash_recieved-shopping_cost\n",
    "    while True:\n",
    "        if back>=100:\n",
    "            back-=100\n",
    "            change.append(100)\n",
    "        elif back>=50 and back<100:\n",
    "            back-=50\n",
    "            change.append(50)\n",
    "        elif back>=20 and back<50:\n",
    "            back-=20\n",
    "            change.append(20)\n",
    "        elif back>=10 and back<20:\n",
    "            back-=10\n",
    "            change.append(10)\n",
    "        elif back>=5 and back<10:\n",
    "            back-=5\n",
    "            change.append(5)\n",
    "        elif back>=2 and back<5:\n",
    "            back-=2\n",
    "            change.append(2)\n",
    "        elif back>=1 and back<2:\n",
    "            back-=1\n",
    "            change.append(1)\n",
    "        elif back==0:\n",
    "            break\n",
    "print(change)\n",
    "        "
   ]
  },
  {
   "cell_type": "markdown",
   "metadata": {},
   "source": [
    "# Q4-B"
   ]
  },
  {
   "cell_type": "raw",
   "metadata": {},
   "source": [
    "Write down a Python code to achieve a given output exactly, you must match the two inputted strings for the same alphabets."
   ]
  },
  {
   "cell_type": "code",
   "execution_count": 78,
   "metadata": {},
   "outputs": [
    {
     "name": "stdout",
     "output_type": "stream",
     "text": [
      "Enter first string: abcdef\n",
      "Enter second string:defghia\n",
      "No. of matching characters:  4\n",
      "Matching charactors are ['a', 'd', 'e', 'f']\n"
     ]
    }
   ],
   "source": [
    "output=[]\n",
    "str1 = str(input(\"Enter first string: \"))\n",
    "str2 = str(input(\"Enter second string:\"))\n",
    "for i in str1:\n",
    "    for r in str2:\n",
    "        if i==r:\n",
    "            output.append(i)\n",
    "print(\"No. of matching characters: \",len(output))\n",
    "print(\"Matching charactors are\",output)"
   ]
  },
  {
   "cell_type": "code",
   "execution_count": null,
   "metadata": {},
   "outputs": [],
   "source": []
  }
 ],
 "metadata": {
  "kernelspec": {
   "display_name": "Python 3",
   "language": "python",
   "name": "python3"
  },
  "language_info": {
   "codemirror_mode": {
    "name": "ipython",
    "version": 3
   },
   "file_extension": ".py",
   "mimetype": "text/x-python",
   "name": "python",
   "nbconvert_exporter": "python",
   "pygments_lexer": "ipython3",
   "version": "3.6.5"
  }
 },
 "nbformat": 4,
 "nbformat_minor": 2
}
